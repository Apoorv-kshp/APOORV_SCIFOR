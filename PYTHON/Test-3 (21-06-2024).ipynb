{
 "cells": [
  {
   "cell_type": "code",
   "execution_count": null,
   "id": "68239af2-3ada-4b88-9790-6d86c3871f11",
   "metadata": {},
   "outputs": [],
   "source": [
    "# Code to show all the levels of Inheritance."
   ]
  },
  {
   "cell_type": "code",
   "execution_count": 4,
   "id": "0b89dc0e-cc57-4104-9220-fc10a615563b",
   "metadata": {},
   "outputs": [
    {
     "name": "stdout",
     "output_type": "stream",
     "text": [
      "Child: John, Age: 10\n",
      "Base1 and Base2\n",
      "Grandparent: Grandpa Joe, Parent: Parent Jim, Child: Child Jack\n",
      "Parent: Parent Paul, Child1: Child Charlie\n",
      "Parent: Parent Paul, Child2: Child Chris\n",
      "Base: Base Hybrid, Intermediate1: Intermediate1, Intermediate2: Intermediate2, Derived: Derived\n"
     ]
    }
   ],
   "source": [
    "# Single Inheritance\n",
    "class Parent:\n",
    "    def __init__(self, name):\n",
    "        self.name = name\n",
    "\n",
    "    def show(self):\n",
    "        return f\"Parent: {self.name}\"\n",
    "\n",
    "class Child(Parent):\n",
    "    def __init__(self, name, age):\n",
    "        super().__init__(name)\n",
    "        self.age = age\n",
    "\n",
    "    def show(self):\n",
    "        return f\"Child: {self.name}, Age: {self.age}\"\n",
    "\n",
    "# Multiple Inheritance\n",
    "class Base1:\n",
    "    def __init__(self):\n",
    "        self.str1 = \"Base1\"\n",
    "\n",
    "class Base2:\n",
    "    def __init__(self):\n",
    "        self.str2 = \"Base2\"\n",
    "\n",
    "class DerivedMultiple(Base1, Base2):\n",
    "    def __init__(self):\n",
    "        Base1.__init__(self)\n",
    "        Base2.__init__(self)\n",
    "\n",
    "    def show(self):\n",
    "        return f\"{self.str1} and {self.str2}\"\n",
    "\n",
    "# Multilevel Inheritance\n",
    "class GrandParent:\n",
    "    def __init__(self, grandparent_name):\n",
    "        self.grandparent_name = grandparent_name\n",
    "\n",
    "class ParentMulti(GrandParent):\n",
    "    def __init__(self, grandparent_name, parent_name):\n",
    "        super().__init__(grandparent_name)\n",
    "        self.parent_name = parent_name\n",
    "\n",
    "class ChildMulti(ParentMulti):\n",
    "    def __init__(self, grandparent_name, parent_name, child_name):\n",
    "        super().__init__(grandparent_name, parent_name)\n",
    "        self.child_name = child_name\n",
    "\n",
    "    def show(self):\n",
    "        return f\"Grandparent: {self.grandparent_name}, Parent: {self.parent_name}, Child: {self.child_name}\"\n",
    "\n",
    "# Hierarchical Inheritance\n",
    "class ParentHierarchical:\n",
    "    def __init__(self, parent_name):\n",
    "        self.parent_name = parent_name\n",
    "\n",
    "class Child1(ParentHierarchical):\n",
    "    def __init__(self, parent_name, child1_name):\n",
    "        super().__init__(parent_name)\n",
    "        self.child1_name = child1_name\n",
    "\n",
    "    def show(self):\n",
    "        return f\"Parent: {self.parent_name}, Child1: {self.child1_name}\"\n",
    "\n",
    "class Child2(ParentHierarchical):\n",
    "    def __init__(self, parent_name, child2_name):\n",
    "        super().__init__(parent_name)\n",
    "        self.child2_name = child2_name\n",
    "\n",
    "    def show(self):\n",
    "        return f\"Parent: {self.parent_name}, Child2: {self.child2_name}\"\n",
    "\n",
    "# Hybrid Inheritance\n",
    "class BaseHybrid:\n",
    "    def __init__(self, base_name):\n",
    "        self.base_name = base_name\n",
    "\n",
    "class Intermediate1(BaseHybrid):\n",
    "    def __init__(self, base_name, intermediate1_name):\n",
    "        BaseHybrid.__init__(self, base_name)\n",
    "        self.intermediate1_name = intermediate1_name\n",
    "\n",
    "class Intermediate2(BaseHybrid):\n",
    "    def __init__(self, base_name, intermediate2_name):\n",
    "        BaseHybrid.__init__(self, base_name)\n",
    "        self.intermediate2_name = intermediate2_name\n",
    "\n",
    "class DerivedHybrid(Intermediate1, Intermediate2):\n",
    "    def __init__(self, base_name, intermediate1_name, intermediate2_name, derived_name):\n",
    "        Intermediate1.__init__(self, base_name, intermediate1_name)\n",
    "        Intermediate2.__init__(self, base_name, intermediate2_name)\n",
    "        self.derived_name = derived_name\n",
    "\n",
    "    def show(self):\n",
    "        return f\"Base: {self.base_name}, Intermediate1: {self.intermediate1_name}, Intermediate2: {self.intermediate2_name}, Derived: {self.derived_name}\"\n",
    "\n",
    "# Demonstrate all inheritance types\n",
    "# Single Inheritance\n",
    "single = Child(\"John\", 10)\n",
    "print(single.show())\n",
    "\n",
    "# Multiple Inheritance\n",
    "multiple = DerivedMultiple()\n",
    "print(multiple.show())\n",
    "\n",
    "# Multilevel Inheritance\n",
    "multi = ChildMulti(\"Grandpa Joe\", \"Parent Jim\", \"Child Jack\")\n",
    "print(multi.show())\n",
    "\n",
    "# Hierarchical Inheritance\n",
    "hier1 = Child1(\"Parent Paul\", \"Child Charlie\")\n",
    "hier2 = Child2(\"Parent Paul\", \"Child Chris\")\n",
    "print(hier1.show())\n",
    "print(hier2.show())\n",
    "\n",
    "# Hybrid Inheritance\n",
    "hybrid = DerivedHybrid(\"Base Hybrid\", \"Intermediate1\", \"Intermediate2\", \"Derived\")\n",
    "print(hybrid.show())\n"
   ]
  },
  {
   "cell_type": "code",
   "execution_count": 5,
   "id": "387a2a11-ea26-483f-b7ab-2bb3affc4d76",
   "metadata": {},
   "outputs": [],
   "source": [
    "# Code for Methode Overriding "
   ]
  },
  {
   "cell_type": "code",
   "execution_count": 6,
   "id": "40bbf6c9-af54-436d-a5ae-4affb2e1ee55",
   "metadata": {},
   "outputs": [
    {
     "name": "stdout",
     "output_type": "stream",
     "text": [
      "Some generic animal sound\n",
      "Woof!\n",
      "Meow!\n"
     ]
    }
   ],
   "source": [
    "class Animal:\n",
    "    def __init__(self, name):\n",
    "        self.name = name\n",
    "\n",
    "    def speak(self):\n",
    "        return \"Some generic animal sound\"\n",
    "\n",
    "class Dog(Animal):\n",
    "    def __init__(self, name, breed):\n",
    "        super().__init__(name)\n",
    "        self.breed = breed\n",
    "\n",
    "    def speak(self):\n",
    "        return \"Woof!\"\n",
    "\n",
    "class Cat(Animal):\n",
    "    def __init__(self, name, color):\n",
    "        super().__init__(name)\n",
    "        self.color = color\n",
    "\n",
    "    def speak(self):\n",
    "        return \"Meow!\"\n",
    "\n",
    "# Creating instances of each class\n",
    "generic_animal = Animal(\"Generic Animal\")\n",
    "dog = Dog(\"Buddy\", \"Golden Retriever\")\n",
    "cat = Cat(\"Whiskers\", \"Black\")\n",
    "\n",
    "# Calling the speak method on each instance\n",
    "print(generic_animal.speak())  # Output: Some generic animal sound\n",
    "print(dog.speak())             # Output: Woof!\n",
    "print(cat.speak())             # Output: Meow!\n"
   ]
  },
  {
   "cell_type": "code",
   "execution_count": 8,
   "id": "fd11db44-1297-4604-8532-a4e5b4e4f6a6",
   "metadata": {},
   "outputs": [],
   "source": [
    "# Explanation\n",
    "\n",
    "#  Base Class (Animal):\n",
    "#  The Animal class has an __init__ method to initialize the name attribute.\n",
    "#   It also has a speak method that returns a generic animal sound.\n",
    "\n",
    "#    Derived Class (Dog):\n",
    "#        The Dog class inherits from the Animal class.\n",
    "#       It has its own __init__ method that calls the __init__ method of the Animal class using super().\n",
    "#        It overrides the speak method to return \"Woof!\".\n",
    "\n",
    "#    Derived Class (Cat):\n",
    "#       The Cat class also inherits from the Animal class.\n",
    "#        It has its own __init__ method that calls the __init__ method of the Animal class using super().\n",
    "#        It overrides the speak method to return \"Meow!\".\n",
    "\n",
    "# When you call the speak method on an instance of Dog or Cat, the overridden method in the respective subclass is executed, demonstrating method overriding. \n",
    "# This allows the Dog and Cat classes to provide their specific implementations of the speak method while still being recognized as Animal objects."
   ]
  },
  {
   "cell_type": "code",
   "execution_count": 9,
   "id": "1e4c147b-8045-420c-acf0-1b73c1c3b063",
   "metadata": {},
   "outputs": [],
   "source": [
    "# Method overloading in python"
   ]
  },
  {
   "cell_type": "code",
   "execution_count": 10,
   "id": "4842821c-41ef-43cb-8538-de9eed0afd60",
   "metadata": {},
   "outputs": [],
   "source": [
    "# Using Type Checking:"
   ]
  },
  {
   "cell_type": "code",
   "execution_count": 11,
   "id": "c8cc1bdb-b761-425a-88e7-e84c56e41f8c",
   "metadata": {},
   "outputs": [
    {
     "name": "stdout",
     "output_type": "stream",
     "text": [
      "5\n",
      "15\n",
      "30\n"
     ]
    }
   ],
   "source": [
    "class MathOperations:\n",
    "    def add(self, a, b=None, c=None):\n",
    "        if b is None and c is None:\n",
    "            return a\n",
    "        elif c is None:\n",
    "            return a + b\n",
    "        else:\n",
    "            return a + b + c\n",
    "\n",
    "# Create an instance of MathOperations\n",
    "math_op = MathOperations()\n",
    "\n",
    "# Call the add method with different number of arguments\n",
    "print(math_op.add(5))        \n",
    "print(math_op.add(5, 10)) \n",
    "print(math_op.add(5, 10, 15)) \n"
   ]
  },
  {
   "cell_type": "code",
   "execution_count": 12,
   "id": "0b476eff-ee07-4a3c-8492-543e853aa8ab",
   "metadata": {},
   "outputs": [],
   "source": [
    "# Using Variable Length Arguments :"
   ]
  },
  {
   "cell_type": "code",
   "execution_count": 14,
   "id": "33fee144-9f55-4cbf-badb-2a64eb67a101",
   "metadata": {},
   "outputs": [
    {
     "name": "stdout",
     "output_type": "stream",
     "text": [
      "5\n",
      "15\n",
      "30\n"
     ]
    }
   ],
   "source": [
    "class MathOperations:\n",
    "    def add(self, *args):\n",
    "        return sum(args)\n",
    "\n",
    "# Create an instance of MathOperations\n",
    "math_op = MathOperations()\n",
    "\n",
    "# Call the add method with different number of arguments\n",
    "print(math_op.add(5))        \n",
    "print(math_op.add(5, 10))    \n",
    "print(math_op.add(5, 10, 15)) \n"
   ]
  },
  {
   "cell_type": "code",
   "execution_count": 15,
   "id": "f20d0ce4-1223-40d0-a5a9-3d95c8a98bda",
   "metadata": {},
   "outputs": [],
   "source": [
    "# Using Default Arguments :"
   ]
  },
  {
   "cell_type": "code",
   "execution_count": 16,
   "id": "d5bd0154-cb12-4e4a-807f-e4b31f4da5ad",
   "metadata": {},
   "outputs": [
    {
     "name": "stdout",
     "output_type": "stream",
     "text": [
      "5\n",
      "15\n",
      "30\n"
     ]
    }
   ],
   "source": [
    "class MathOperations:\n",
    "    def add(self, a, b=0, c=0):\n",
    "        return a + b + c\n",
    "\n",
    "# Create an instance of MathOperations\n",
    "math_op = MathOperations()\n",
    "\n",
    "# Call the add method with different number of arguments\n",
    "print(math_op.add(5))        \n",
    "print(math_op.add(5, 10))    \n",
    "print(math_op.add(5, 10, 15)) \n"
   ]
  },
  {
   "cell_type": "code",
   "execution_count": null,
   "id": "6d5bc3a5-07b8-42ec-8748-3c8185970872",
   "metadata": {},
   "outputs": [],
   "source": [
    "# Explanation\n",
    "\n",
    "#    Using Default Arguments:\n",
    "#        The add method has default values for the second and third parameters. If fewer arguments are passed, the default values are used.\n",
    "\n",
    "#    Using Variable-Length Arguments:\n",
    "#        The add method uses *args to accept a variable number of arguments and sums them up.\n",
    "\n",
    "#    Using Type Checking:\n",
    "#        The add method checks how many arguments are None and performs the addition accordingly.\n",
    "\n",
    "#   These examples demonstrate how to achieve method overloading in Python,\n",
    "#   by using techniques that accommodate varying numbers of parameters within a single method definition."
   ]
  }
 ],
 "metadata": {
  "kernelspec": {
   "display_name": "Python 3 (ipykernel)",
   "language": "python",
   "name": "python3"
  },
  "language_info": {
   "codemirror_mode": {
    "name": "ipython",
    "version": 3
   },
   "file_extension": ".py",
   "mimetype": "text/x-python",
   "name": "python",
   "nbconvert_exporter": "python",
   "pygments_lexer": "ipython3",
   "version": "3.10.0"
  }
 },
 "nbformat": 4,
 "nbformat_minor": 5
}

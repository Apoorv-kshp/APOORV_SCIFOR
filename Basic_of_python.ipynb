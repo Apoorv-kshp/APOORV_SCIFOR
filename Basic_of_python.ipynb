{
  "nbformat": 4,
  "nbformat_minor": 0,
  "metadata": {
    "colab": {
      "provenance": [],
      "authorship_tag": "ABX9TyNIqobYwlrT7MBy988IAHM7",
      "include_colab_link": true
    },
    "kernelspec": {
      "name": "python3",
      "display_name": "Python 3"
    },
    "language_info": {
      "name": "python"
    }
  },
  "cells": [
    {
      "cell_type": "markdown",
      "metadata": {
        "id": "view-in-github",
        "colab_type": "text"
      },
      "source": [
        "<a href=\"https://colab.research.google.com/github/Apoorv-kshp/APOORV_SCIFOR/blob/main/Basic_of_python.ipynb\" target=\"_parent\"><img src=\"https://colab.research.google.com/assets/colab-badge.svg\" alt=\"Open In Colab\"/></a>"
      ]
    },
    {
      "cell_type": "markdown",
      "source": [
        "Finding the Odd or Even Number.\n"
      ],
      "metadata": {
        "id": "innCqwfHa6Uq"
      }
    },
    {
      "cell_type": "code",
      "execution_count": null,
      "metadata": {
        "id": "6Ouu1NkE08DY",
        "colab": {
          "base_uri": "https://localhost:8080/"
        },
        "outputId": "6d91f69e-bc26-45c0-deea-66ec0806f6ae"
      },
      "outputs": [
        {
          "output_type": "stream",
          "name": "stdout",
          "text": [
            "The number 7 is Odd.\n"
          ]
        }
      ],
      "source": [
        "def check_even_odd(number):\n",
        "    if number % 2 == 0:\n",
        "        return \"Even\"\n",
        "    else:\n",
        "        return \"Odd\"\n",
        "\n",
        "# Example usage:\n",
        "number = 7\n",
        "result = check_even_odd(number)\n",
        "print(f\"The number {number} is {result}.\")"
      ]
    },
    {
      "cell_type": "markdown",
      "source": [
        "Grading Sysytem"
      ],
      "metadata": {
        "id": "FJ1ihZVybIEH"
      }
    },
    {
      "cell_type": "code",
      "source": [
        "def determine_grade(score):\n",
        "    if score >= 90:\n",
        "        return \"A\"\n",
        "    elif score >= 80:\n",
        "        return \"B\"\n",
        "    elif score >= 70:\n",
        "        return \"C\"\n",
        "    elif score >= 60:\n",
        "        return \"D\"\n",
        "    else:\n",
        "        return \"F\"\n",
        "\n",
        "# Example usage:\n",
        "score = 85\n",
        "grade = determine_grade(score)\n",
        "print(f\"A score of {score} gets a grade of {grade}.\")"
      ],
      "metadata": {
        "colab": {
          "base_uri": "https://localhost:8080/"
        },
        "id": "5xbFBtoAhYA6",
        "outputId": "d7fadf5d-62f1-4a79-bc3a-f9670989b79a"
      },
      "execution_count": null,
      "outputs": [
        {
          "output_type": "stream",
          "name": "stdout",
          "text": [
            "A score of 85 gets a grade of B.\n"
          ]
        }
      ]
    },
    {
      "cell_type": "markdown",
      "source": [
        "Finding the maximum number between three number."
      ],
      "metadata": {
        "id": "ZD9ZVEGMbSyv"
      }
    },
    {
      "cell_type": "code",
      "source": [
        "def max_of_three(a, b, c):\n",
        "    if a >= b and a >= c:\n",
        "        return a\n",
        "    elif b >= a and b >= c:\n",
        "        return b\n",
        "    else:\n",
        "        return c\n",
        "\n",
        "# Example usage:\n",
        "a = 10\n",
        "b = 20\n",
        "c = 15\n",
        "maximum = max_of_three(a, b, c)\n",
        "print(f\"The maximum of {a}, {b}, and {c} is {maximum}.\")\n"
      ],
      "metadata": {
        "colab": {
          "base_uri": "https://localhost:8080/"
        },
        "id": "y8avJqSMhbua",
        "outputId": "fe912447-11c8-4bca-c1ba-fe29769dd34e"
      },
      "execution_count": null,
      "outputs": [
        {
          "output_type": "stream",
          "name": "stdout",
          "text": [
            "The maximum of 10, 20, and 15 is 20.\n"
          ]
        }
      ]
    },
    {
      "cell_type": "markdown",
      "source": [
        "Checking if the number is positive or negative"
      ],
      "metadata": {
        "id": "kmFfpS6nbfhF"
      }
    },
    {
      "cell_type": "code",
      "source": [
        "def check_number(num):\n",
        "    if num > 0:\n",
        "        return \"Positive\"\n",
        "    elif num < 0:\n",
        "        return \"Negative\"\n",
        "    else:\n",
        "        return \"Zero\"\n",
        "\n",
        "# Example usage:\n",
        "num = -5\n",
        "result = check_number(num)\n",
        "print(f\"The number {num} is {result}.\")\n"
      ],
      "metadata": {
        "colab": {
          "base_uri": "https://localhost:8080/"
        },
        "id": "5_eXPca3hnzt",
        "outputId": "a902bf95-3283-47b8-9d15-12e9d96e9e7f"
      },
      "execution_count": null,
      "outputs": [
        {
          "output_type": "stream",
          "name": "stdout",
          "text": [
            "The number -5 is Negative.\n"
          ]
        }
      ]
    },
    {
      "cell_type": "markdown",
      "source": [
        "Finding the largest number."
      ],
      "metadata": {
        "id": "swfPhRGZbmR7"
      }
    },
    {
      "cell_type": "code",
      "source": [
        "def largest_of_two(a, b):\n",
        "    if a > b:\n",
        "        return a\n",
        "    elif b > a:\n",
        "        return b\n",
        "    else:\n",
        "        return \"Both numbers are equal\"\n",
        "\n",
        "# Example usage:\n",
        "a = 15\n",
        "b = 20\n",
        "result = largest_of_two(a, b)\n",
        "print(f\"The larger of {a} and {b} is {result}.\")\n"
      ],
      "metadata": {
        "colab": {
          "base_uri": "https://localhost:8080/"
        },
        "id": "4Fs-XMLXhwr4",
        "outputId": "943f3707-d4b6-44d2-86a9-bb5aab4541ae"
      },
      "execution_count": null,
      "outputs": [
        {
          "output_type": "stream",
          "name": "stdout",
          "text": [
            "The larger of 15 and 20 is 20.\n"
          ]
        }
      ]
    },
    {
      "cell_type": "markdown",
      "source": [
        "Finding the leap year."
      ],
      "metadata": {
        "id": "AI31-ZwwbuM1"
      }
    },
    {
      "cell_type": "code",
      "source": [
        "def is_leap_year(year):\n",
        "    if (year % 4 == 0 and year % 100 != 0) or (year % 400 == 0):\n",
        "        return True\n",
        "    else:\n",
        "        return False\n",
        "\n",
        "# Example usage:\n",
        "year = 2020\n",
        "result = is_leap_year(year)\n",
        "print(f\"The year {year} is a leap year: {result}.\")\n"
      ],
      "metadata": {
        "id": "Qi4aHcWMh6rY",
        "outputId": "579c2c16-0296-4bb9-b231-2a9275140371",
        "colab": {
          "base_uri": "https://localhost:8080/"
        }
      },
      "execution_count": null,
      "outputs": [
        {
          "output_type": "stream",
          "name": "stdout",
          "text": [
            "The year 2020 is a leap year: True.\n"
          ]
        }
      ]
    },
    {
      "cell_type": "code",
      "source": [
        "class Animal:\n",
        "    def __init__(self, name, species):\n",
        "        self.__name = name  # Private attribute\n",
        "        self.__species = species  # Private attribute\n",
        "\n",
        "    def get_name(self):  # Public method to access private attribute\n",
        "        return self.__name\n",
        "\n",
        "    def get_species(self):  # Public method to access private attribute\n",
        "        return self.__species\n",
        "\n",
        "    def speak(self):\n",
        "        print(f\"{self.__name} makes a noise.\")\n"
      ],
      "metadata": {
        "id": "eh9beR-8UBy-"
      },
      "execution_count": null,
      "outputs": []
    },
    {
      "cell_type": "code",
      "source": [
        "class Person:\n",
        "    def __init__(self, name, age):\n",
        "        self.__name = name  # Private attribute\n",
        "        self.__age = age    # Private attribute\n",
        "\n",
        "    def set_name(self, name):\n",
        "        self.__name = name\n",
        "\n",
        "    def get_name(self):\n",
        "        return self.__name\n",
        "\n",
        "    def set_age(self, age):\n",
        "        self.__age = age\n",
        "\n",
        "    def get_age(self):\n",
        "        return self.__age\n",
        "\n",
        "# Example usage:\n",
        "person = Person(\"Alice\", 30)\n",
        "\n",
        "# Accessing private attributes via public methods\n",
        "print(person.get_name())  # Output: Alice\n",
        "print(person.get_age())   # Output: 30\n",
        "\n",
        "# Modifying private attributes via public methods\n",
        "person.set_name(\"Bob\")\n",
        "person.set_age(25)\n",
        "\n",
        "print(person.get_name())  # Output: Bob\n",
        "print(person.get_age())   # Output: 25\n"
      ],
      "metadata": {
        "colab": {
          "base_uri": "https://localhost:8080/"
        },
        "id": "25OEcu8V0bbx",
        "outputId": "ce999143-db74-404d-a171-bf1366955d44"
      },
      "execution_count": null,
      "outputs": [
        {
          "output_type": "stream",
          "name": "stdout",
          "text": [
            "Alice\n",
            "30\n",
            "Bob\n",
            "25\n"
          ]
        }
      ]
    },
    {
      "cell_type": "code",
      "source": [
        "class BankAccount:\n",
        "    def __init__(self, initial_balance):\n",
        "        self.__balance = initial_balance  # Private attribute\n",
        "\n",
        "    def deposit(self, amount):\n",
        "        if amount > 0:\n",
        "            self.__balance += amount\n",
        "            print(f\"Deposited {amount}. New balance is {self.__balance}.\")\n",
        "        else:\n",
        "            print(\"Deposit amount must be positive.\")\n",
        "\n",
        "    def withdraw(self, amount):\n",
        "        if 0 < amount <= self.__balance:\n",
        "            self.__balance -= amount\n",
        "            print(f\"Withdrew {amount}. New balance is {self.__balance}.\")\n",
        "        else:\n",
        "            print(\"Insufficient balance or invalid amount.\")\n",
        "\n",
        "    def get_balance(self):\n",
        "        return self.__balance\n",
        "\n",
        "# Example usage:\n",
        "account = BankAccount(1000)\n",
        "\n",
        "# Depositing money\n",
        "account.deposit(500)  # Output: Deposited 500. New balance is 1500.\n",
        "\n",
        "# Withdrawing money\n",
        "account.withdraw(200)  # Output: Withdrew 200. New balance is 1300.\n",
        "\n",
        "# Attempting to withdraw more money than available\n",
        "account.withdraw(1500)  # Output: Insufficient balance or invalid amount.\n",
        "\n",
        "# Checking the balance via getter method\n",
        "print(account.get_balance())  # Output: 1300\n"
      ],
      "metadata": {
        "colab": {
          "base_uri": "https://localhost:8080/"
        },
        "id": "roGYFYDx2UVO",
        "outputId": "4692d1fc-c8c8-4aa8-f7af-0ab7b70cbc0e"
      },
      "execution_count": null,
      "outputs": [
        {
          "output_type": "stream",
          "name": "stdout",
          "text": [
            "Deposited 500. New balance is 1500.\n",
            "Withdrew 200. New balance is 1300.\n",
            "Insufficient balance or invalid amount.\n",
            "1300\n"
          ]
        }
      ]
    },
    {
      "cell_type": "code",
      "source": [
        "# Python code to demonstrate how parent constructors\n",
        "# are called.\n",
        "\n",
        "# parent class\n",
        "class Person(object):\n",
        "\n",
        "    # __init__ is known as the constructor\n",
        "    def __init__(self, name, idnumber):\n",
        "        self.name = name\n",
        "        self.idnumber = idnumber\n",
        "\n",
        "    def display(self):\n",
        "        print(self.name)\n",
        "        print(self.idnumber)\n",
        "\n",
        "    def details(self):\n",
        "        print(\"My name is {}\".format(self.name))\n",
        "        print(\"IdNumber: {}\".format(self.idnumber))\n",
        "\n",
        "# child class\n",
        "class Employee(Person):\n",
        "    def __init__(self, name, idnumber, salary, post):\n",
        "        self.salary = salary\n",
        "        self.post = post\n",
        "\n",
        "        # invoking the __init__ of the parent class\n",
        "        Person.__init__(self, name, idnumber)\n",
        "\n",
        "    def details(self):\n",
        "        print(\"My name is {}\".format(self.name))\n",
        "        print(\"IdNumber: {}\".format(self.idnumber))\n",
        "        print(\"Post: {}\".format(self.post))\n",
        "\n",
        "\n",
        "# creation of an object variable or an instance\n",
        "a = Employee('Rahul', 886012, 200000, \"Intern\")\n",
        "\n",
        "# calling a function of the class Person using\n",
        "# its instance\n",
        "a.display()\n",
        "a.details()"
      ],
      "metadata": {
        "colab": {
          "base_uri": "https://localhost:8080/"
        },
        "id": "SaNeGuMqNJpq",
        "outputId": "431dd739-c5ab-4874-cc8d-bddccd369cfb"
      },
      "execution_count": null,
      "outputs": [
        {
          "output_type": "stream",
          "name": "stdout",
          "text": [
            "Rahul\n",
            "886012\n",
            "My name is Rahul\n",
            "IdNumber: 886012\n",
            "Post: Intern\n"
          ]
        }
      ]
    },
    {
      "cell_type": "code",
      "source": [
        "class Bird:\n",
        "\n",
        "    def intro(self):\n",
        "        print(\"There are many types of birds.\")\n",
        "\n",
        "    def flight(self):\n",
        "        print(\"Most of the birds can fly but some cannot.\")\n",
        "\n",
        "class sparrow(Bird):\n",
        "\n",
        "    def flight(self):\n",
        "        print(\"Sparrows can fly.\")\n",
        "\n",
        "class ostrich(Bird):\n",
        "\n",
        "    def flight(self):\n",
        "        print(\"Ostriches cannot fly.\")\n",
        "\n",
        "obj_bird = Bird()\n",
        "obj_spr = sparrow()\n",
        "obj_ost = ostrich()\n",
        "\n",
        "obj_bird.intro()\n",
        "obj_bird.flight()\n",
        "\n",
        "obj_spr.intro()\n",
        "obj_spr.flight()\n",
        "\n",
        "obj_ost.intro()\n",
        "obj_ost.flight()"
      ],
      "metadata": {
        "id": "fiNO3HCK2VRz",
        "colab": {
          "base_uri": "https://localhost:8080/"
        },
        "outputId": "a9246dd4-07a7-44e7-9e01-7bc178b55cdb"
      },
      "execution_count": null,
      "outputs": [
        {
          "output_type": "stream",
          "name": "stdout",
          "text": [
            "There are many types of birds.\n",
            "Most of the birds can fly but some cannot.\n",
            "There are many types of birds.\n",
            "Sparrows can fly.\n",
            "There are many types of birds.\n",
            "Ostriches cannot fly.\n"
          ]
        }
      ]
    },
    {
      "cell_type": "code",
      "source": [
        "\n",
        "# Python program to demonstrate\n",
        "# single inheritance\n",
        "\n",
        "# Base class\n",
        "class Parent:\n",
        "    def func1(self):\n",
        "        print(\"This function is in parent class.\")\n",
        "\n",
        "# Derived class\n",
        "\n",
        "\n",
        "class Child(Parent):\n",
        "    def func2(self):\n",
        "        print(\"This function is in child class.\")\n",
        "\n",
        "\n",
        "# Driver's code\n",
        "object = Child()\n",
        "object.func1()\n",
        "object.func2()\n"
      ],
      "metadata": {
        "id": "4-uasOsbxNnb",
        "colab": {
          "base_uri": "https://localhost:8080/"
        },
        "outputId": "92b4ba7c-23de-4572-b348-16b42da5f052"
      },
      "execution_count": 1,
      "outputs": [
        {
          "output_type": "stream",
          "name": "stdout",
          "text": [
            "This function is in parent class.\n",
            "This function is in child class.\n"
          ]
        }
      ]
    },
    {
      "cell_type": "code",
      "source": [
        "\n",
        "# Python program to demonstrate\n",
        "# multiple inheritance\n",
        "\n",
        "# Base class1\n",
        "class Mother:\n",
        "    mothername = \"\"\n",
        "\n",
        "    def mother(self):\n",
        "        print(self.mothername)\n",
        "\n",
        "# Base class2\n",
        "\n",
        "\n",
        "class Father:\n",
        "    fathername = \"\"\n",
        "\n",
        "    def father(self):\n",
        "        print(self.fathername)\n",
        "\n",
        "# Derived class\n",
        "\n",
        "\n",
        "class Son(Mother, Father):\n",
        "    def parents(self):\n",
        "        print(\"Father :\", self.fathername)\n",
        "        print(\"Mother :\", self.mothername)\n",
        "\n",
        "\n",
        "# Driver's code\n",
        "s1 = Son()\n",
        "s1.fathername = \"RAM\"\n",
        "s1.mothername = \"SITA\"\n",
        "s1.parents()\n"
      ],
      "metadata": {
        "colab": {
          "base_uri": "https://localhost:8080/"
        },
        "id": "wZ2Ry-9T6koK",
        "outputId": "09c493fd-09d3-4c5f-c85f-0aab6e9df975"
      },
      "execution_count": 2,
      "outputs": [
        {
          "output_type": "stream",
          "name": "stdout",
          "text": [
            "Father : RAM\n",
            "Mother : SITA\n"
          ]
        }
      ]
    },
    {
      "cell_type": "code",
      "source": [
        "# Python program to demonstrate\n",
        "# multilevel inheritance\n",
        "\n",
        "# Base class\n",
        "\n",
        "\n",
        "class Grandfather:\n",
        "\n",
        "\tdef __init__(self, grandfathername):\n",
        "\t\tself.grandfathername = grandfathername\n",
        "\n",
        "# Intermediate class\n",
        "\n",
        "\n",
        "class Father(Grandfather):\n",
        "\tdef __init__(self, fathername, grandfathername):\n",
        "\t\tself.fathername = fathername\n",
        "\n",
        "\t\t# invoking constructor of Grandfather class\n",
        "\t\tGrandfather.__init__(self, grandfathername)\n",
        "\n",
        "# Derived class\n",
        "\n",
        "\n",
        "class Son(Father):\n",
        "\tdef __init__(self, sonname, fathername, grandfathername):\n",
        "\t\tself.sonname = sonname\n",
        "\n",
        "\t\t# invoking constructor of Father class\n",
        "\t\tFather.__init__(self, fathername, grandfathername)\n",
        "\n",
        "\tdef print_name(self):\n",
        "\t\tprint('Grandfather name :', self.grandfathername)\n",
        "\t\tprint(\"Father name :\", self.fathername)\n",
        "\t\tprint(\"Son name :\", self.sonname)\n",
        "\n",
        "\n",
        "# Driver code\n",
        "s1 = Son('Prince', 'Rampal', 'Lal mani')\n",
        "print(s1.grandfathername)\n",
        "s1.print_name()\n"
      ],
      "metadata": {
        "colab": {
          "base_uri": "https://localhost:8080/"
        },
        "id": "-oNbUB9L7crC",
        "outputId": "06139a9c-2152-48b5-c539-c103ed3c13a6"
      },
      "execution_count": 3,
      "outputs": [
        {
          "output_type": "stream",
          "name": "stdout",
          "text": [
            "Lal mani\n",
            "Grandfather name : Lal mani\n",
            "Father name : Rampal\n",
            "Son name : Prince\n"
          ]
        }
      ]
    },
    {
      "cell_type": "code",
      "source": [
        "# Python program to demonstrate\n",
        "# Hierarchical inheritance\n",
        "\n",
        "\n",
        "# Base class\n",
        "class Parent:\n",
        "\tdef func1(self):\n",
        "\t\tprint(\"This function is in parent class.\")\n",
        "\n",
        "# Derived class1\n",
        "\n",
        "\n",
        "class Child1(Parent):\n",
        "\tdef func2(self):\n",
        "\t\tprint(\"This function is in child 1.\")\n",
        "\n",
        "# Derivied class2\n",
        "\n",
        "\n",
        "class Child2(Parent):\n",
        "\tdef func3(self):\n",
        "\t\tprint(\"This function is in child 2.\")\n",
        "\n",
        "\n",
        "# Driver's code\n",
        "object1 = Child1()\n",
        "object2 = Child2()\n",
        "object1.func1()\n",
        "object1.func2()\n",
        "object2.func1()\n",
        "object2.func3()\n"
      ],
      "metadata": {
        "colab": {
          "base_uri": "https://localhost:8080/"
        },
        "id": "tRRtWFBP7hcr",
        "outputId": "cf28918a-ffcd-481d-dbcd-657346b6fc2f"
      },
      "execution_count": 4,
      "outputs": [
        {
          "output_type": "stream",
          "name": "stdout",
          "text": [
            "This function is in parent class.\n",
            "This function is in child 1.\n",
            "This function is in parent class.\n",
            "This function is in child 2.\n"
          ]
        }
      ]
    },
    {
      "cell_type": "code",
      "source": [
        "# Python program to demonstrate\n",
        "# hybrid inheritance\n",
        "\n",
        "\n",
        "class School:\n",
        "\tdef func1(self):\n",
        "\t\tprint(\"This function is in school.\")\n",
        "\n",
        "\n",
        "class Student1(School):\n",
        "\tdef func2(self):\n",
        "\t\tprint(\"This function is in student 1. \")\n",
        "\n",
        "\n",
        "class Student2(School):\n",
        "\tdef func3(self):\n",
        "\t\tprint(\"This function is in student 2.\")\n",
        "\n",
        "\n",
        "class Student3(Student1, School):\n",
        "\tdef func4(self):\n",
        "\t\tprint(\"This function is in student 3.\")\n",
        "\n",
        "\n",
        "# Driver's code\n",
        "object = Student3()\n",
        "object.func1()\n",
        "object.func2()\n"
      ],
      "metadata": {
        "colab": {
          "base_uri": "https://localhost:8080/"
        },
        "id": "qRJfrBME7ntq",
        "outputId": "b0b05d9d-699c-4d88-ad9f-c0e6c8bf754c"
      },
      "execution_count": 5,
      "outputs": [
        {
          "output_type": "stream",
          "name": "stdout",
          "text": [
            "This function is in school.\n",
            "This function is in student 1. \n"
          ]
        }
      ]
    },
    {
      "cell_type": "code",
      "source": [
        "class Vehicle:\n",
        "    def move(self):\n",
        "        print(\"Vehicle moves\")\n",
        "\n",
        "\n",
        "class Car(Vehicle):\n",
        "    def drive(self):\n",
        "        print(\"Car drives\")\n",
        "\n",
        "\n",
        "class Boat(Vehicle):\n",
        "    def sail(self):\n",
        "        print(\"Boat sails\")\n",
        "\n",
        "\n",
        "class AmphibiousVehicle(Car, Boat):\n",
        "    def amphibious_action(self):\n",
        "        print(\"Amphibious vehicle can both drive and sail\")\n",
        "\n",
        "\n",
        "amphibious_vehicle = AmphibiousVehicle()\n",
        "amphibious_vehicle.move()\n",
        "amphibious_vehicle.drive()\n",
        "amphibious_vehicle.sail()\n",
        "amphibious_vehicle.amphibious_action()"
      ],
      "metadata": {
        "id": "nzfXdyks7vO5",
        "outputId": "b96ac169-201a-441e-bca8-6b959b561e69",
        "colab": {
          "base_uri": "https://localhost:8080/"
        }
      },
      "execution_count": 6,
      "outputs": [
        {
          "output_type": "stream",
          "name": "stdout",
          "text": [
            "Vehicle moves\n",
            "Car drives\n",
            "Boat sails\n",
            "Amphibious vehicle can both drive and sail\n"
          ]
        }
      ]
    },
    {
      "cell_type": "code",
      "source": [],
      "metadata": {
        "id": "84L_omAy75yd"
      },
      "execution_count": null,
      "outputs": []
    }
  ]
}